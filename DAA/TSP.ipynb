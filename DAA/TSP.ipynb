{
  "cells": [
    {
      "cell_type": "code",
      "execution_count": 2,
      "metadata": {},
      "outputs": [],
      "source": [
        "from geopy.geocoders import Nominatim\n",
        "geolocator = Nominatim(user_agent=\"default\")"
      ]
    },
    {
      "cell_type": "code",
      "execution_count": 13,
      "metadata": {},
      "outputs": [],
      "source": [
        "No_of_city = int(input(\"Enter no. of city to enter:\"))\n",
        "Citys = []\n",
        "Loc = []\n",
        "for i in range(No_of_city):\n",
        "    city = input()\n",
        "    Citys.append(city)\n",
        "\n",
        "for i in range(No_of_city):\n",
        "    location = geolocator.geocode(Citys[i])\n",
        "    loc = (location.latitude, location.longitude)\n",
        "    Loc.append(loc)"
      ]
    },
    {
      "cell_type": "code",
      "execution_count": 14,
      "metadata": {},
      "outputs": [],
      "source": [
        "from geopy.distance import geodesic"
      ]
    },
    {
      "cell_type": "code",
      "execution_count": 15,
      "metadata": {},
      "outputs": [
        {
          "name": "stdout",
          "output_type": "stream",
          "text": [
            "[0.0, 74.55029367126821, 102.55989455322408, 539.5126155861325]\n",
            "[74.55029367126821, 0.0, 87.48224082988995, 587.7250824394991]\n",
            "[102.55989455322408, 87.48224082988995, 0.0, 514.877973526251]\n",
            "[539.5126155861325, 587.7250824394991, 514.877973526251, 0.0]\n"
          ]
        }
      ],
      "source": [
        "\n",
        "G = []\n",
        "for i in range(No_of_city):\n",
        "    lst = []\n",
        "    for j in range(No_of_city):\n",
        "        nm1=geodesic(Loc[i], Loc[j]).miles\n",
        "        lst.append(nm1)\n",
        "    G.append(lst)\n",
        "for i in G:\n",
        "    print(i)"
      ]
    },
    {
      "cell_type": "code",
      "execution_count": 34,
      "metadata": {
        "colab": {
          "base_uri": "https://localhost:8080/"
        },
        "id": "RWQDO9q4tVlS",
        "outputId": "904cd202-b1c1-47e4-cfe1-c3d020fe8312"
      },
      "outputs": [
        {
          "name": "stdout",
          "output_type": "stream",
          "text": [
            "0 \t 0-->3-->2-->1-->0 \t 1216.4231236135415\n",
            "1 \t 1-->3-->2-->1-->1 \t 1216.4231236135415\n",
            "2 \t 2-->3-->2-->1-->2 \t 1216.4231236135415\n",
            "3 \t 3-->3-->2-->1-->3 \t 1216.4231236135415\n"
          ]
        }
      ],
      "source": [
        "\n",
        "def tsp(x,s,i):\n",
        "   min=float('inf')\n",
        "   path=\"\"\n",
        "   if(len(s)):\n",
        "     for k in s:\n",
        "       cost,path=tsp(k,s-{k},i)\n",
        "       cost=cost+G[x][k]\n",
        "       if(cost<min):\n",
        "         min=cost\n",
        "     path=(str(x)+\"-->\")+path\n",
        "     return min,path\n",
        "   else:\n",
        "    path=str(i)\n",
        "    return G[x][i],path\n",
        "\n",
        "\n",
        "s=set()\n",
        "g = len(G)\n",
        "for i in range (g):\n",
        "  s.add(i);\n",
        "for i in s:\n",
        "  u,v=tsp(i,s,i) # v-->path, u-->cost of the pathxxc\n",
        "  print(i,\"\\t\",v,\"\\t\",u)"
      ]
    },
    {
      "cell_type": "code",
      "execution_count": null,
      "metadata": {},
      "outputs": [],
      "source": []
    }
  ],
  "metadata": {
    "colab": {
      "collapsed_sections": [],
      "provenance": []
    },
    "kernelspec": {
      "display_name": "Python 3.10.1 64-bit",
      "language": "python",
      "name": "python3"
    },
    "language_info": {
      "codemirror_mode": {
        "name": "ipython",
        "version": 3
      },
      "file_extension": ".py",
      "mimetype": "text/x-python",
      "name": "python",
      "nbconvert_exporter": "python",
      "pygments_lexer": "ipython3",
      "version": "3.10.1"
    },
    "vscode": {
      "interpreter": {
        "hash": "63963b3f4c440940f0b94a3100916033a226cb4f45979123153792d60aa56d6a"
      }
    }
  },
  "nbformat": 4,
  "nbformat_minor": 0
}
