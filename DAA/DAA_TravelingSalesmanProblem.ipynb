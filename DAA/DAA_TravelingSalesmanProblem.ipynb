{
  "cells": [
    {
      "cell_type": "code",
      "execution_count": 2,
      "metadata": {},
      "outputs": [],
      "source": [
        "from geopy.geocoders import Nominatim\n",
        "geolocator = Nominatim(user_agent=\"default\")"
      ]
    },
    {
      "cell_type": "code",
      "execution_count": 13,
      "metadata": {},
      "outputs": [],
      "source": [
        "No_of_city = int(input(\"Enter no. of city to enter:\"))\n",
        "Citys = []\n",
        "Loc = []\n",
        "for i in range(No_of_city):\n",
        "    city = input()\n",
        "    Citys.append(city)\n",
        "\n",
        "for i in range(No_of_city):\n",
        "    location = geolocator.geocode(Citys[i])\n",
        "    loc = (location.latitude, location.longitude)\n",
        "    Loc.append(loc)"
      ]
    },
    {
      "cell_type": "code",
      "execution_count": 14,
      "metadata": {},
      "outputs": [],
      "source": [
        "from geopy.distance import geodesic"
      ]
    },
    {
      "cell_type": "code",
      "execution_count": 15,
      "metadata": {},
      "outputs": [
        {
          "name": "stdout",
          "output_type": "stream",
          "text": [
            "[0.0, 74.55029367126821, 102.55989455322408, 539.5126155861325]\n",
            "[74.55029367126821, 0.0, 87.48224082988995, 587.7250824394991]\n",
            "[102.55989455322408, 87.48224082988995, 0.0, 514.877973526251]\n",
            "[539.5126155861325, 587.7250824394991, 514.877973526251, 0.0]\n"
          ]
        }
      ],
      "source": [
        "\n",
        "G = []\n",
        "for i in range(No_of_city):\n",
        "    lst = []\n",
        "    for j in range(No_of_city):\n",
        "        nm1=geodesic(Loc[i], Loc[j]).miles\n",
        "        lst.append(nm1)\n",
        "    G.append(lst)\n",
        "for i in G:\n",
        "    print(i)"
      ]
    },
    {
      "cell_type": "code",
      "execution_count": 1,
      "metadata": {
        "colab": {
          "base_uri": "https://localhost:8080/"
        },
        "id": "RWQDO9q4tVlS",
        "outputId": "904cd202-b1c1-47e4-cfe1-c3d020fe8312"
      },
      "outputs": [
        {
          "ename": "NameError",
          "evalue": "name 'G' is not defined",
          "output_type": "error",
          "traceback": [
            "\u001b[1;31m---------------------------------------------------------------------------\u001b[0m",
            "\u001b[1;31mNameError\u001b[0m                                 Traceback (most recent call last)",
            "\u001b[1;32m~\\AppData\\Local\\Temp/ipykernel_13908/2556212037.py\u001b[0m in \u001b[0;36m<module>\u001b[1;34m\u001b[0m\n\u001b[0;32m     16\u001b[0m \u001b[1;33m\u001b[0m\u001b[0m\n\u001b[0;32m     17\u001b[0m \u001b[0ms\u001b[0m\u001b[1;33m=\u001b[0m\u001b[0mset\u001b[0m\u001b[1;33m(\u001b[0m\u001b[1;33m)\u001b[0m\u001b[1;33m\u001b[0m\u001b[1;33m\u001b[0m\u001b[0m\n\u001b[1;32m---> 18\u001b[1;33m \u001b[0mg\u001b[0m \u001b[1;33m=\u001b[0m \u001b[0mlen\u001b[0m\u001b[1;33m(\u001b[0m\u001b[0mG\u001b[0m\u001b[1;33m)\u001b[0m\u001b[1;33m\u001b[0m\u001b[1;33m\u001b[0m\u001b[0m\n\u001b[0m\u001b[0;32m     19\u001b[0m \u001b[1;32mfor\u001b[0m \u001b[0mi\u001b[0m \u001b[1;32min\u001b[0m \u001b[0mrange\u001b[0m \u001b[1;33m(\u001b[0m\u001b[0mg\u001b[0m\u001b[1;33m)\u001b[0m\u001b[1;33m:\u001b[0m\u001b[1;33m\u001b[0m\u001b[1;33m\u001b[0m\u001b[0m\n\u001b[0;32m     20\u001b[0m   \u001b[0ms\u001b[0m\u001b[1;33m.\u001b[0m\u001b[0madd\u001b[0m\u001b[1;33m(\u001b[0m\u001b[0mi\u001b[0m\u001b[1;33m)\u001b[0m\u001b[1;33m;\u001b[0m\u001b[1;33m\u001b[0m\u001b[1;33m\u001b[0m\u001b[0m\n",
            "\u001b[1;31mNameError\u001b[0m: name 'G' is not defined"
          ]
        }
      ],
      "source": [
        "\n",
        "def tsp(x,s,i):\n",
        "   min=float('inf')\n",
        "   path=\"\"\n",
        "   if(len(s)):\n",
        "     for k in s:\n",
        "       cost,path=tsp(k,s-{k},i)\n",
        "       cost=cost+G[x][k]\n",
        "       if(cost<min):\n",
        "         min=cost\n",
        "     path=(str(x)+\"-->\")+path\n",
        "     return min,path\n",
        "   else:\n",
        "    path=str(i)\n",
        "    return G[x][i],path\n",
        "\n",
        "\n",
        "s=set()\n",
        "g = len(G)\n",
        "for i in range (g):\n",
        "  s.add(i);\n",
        "for i in s:\n",
        "  u,v=tsp(i,s,i) # v-->path, u-->cost of the path\n",
        "  print(i,\"\\t\",v,\"\\t\",u)"
      ]
    },
    {
      "cell_type": "code",
      "execution_count": null,
      "metadata": {},
      "outputs": [],
      "source": []
    }
  ],
  "metadata": {
    "colab": {
      "collapsed_sections": [],
      "provenance": []
    },
    "kernelspec": {
      "display_name": "Python 3.10.1 64-bit",
      "language": "python",
      "name": "python3"
    },
    "language_info": {
      "codemirror_mode": {
        "name": "ipython",
        "version": 3
      },
      "file_extension": ".py",
      "mimetype": "text/x-python",
      "name": "python",
      "nbconvert_exporter": "python",
      "pygments_lexer": "ipython3",
      "version": "3.10.1"
    },
    "vscode": {
      "interpreter": {
        "hash": "63963b3f4c440940f0b94a3100916033a226cb4f45979123153792d60aa56d6a"
      }
    }
  },
  "nbformat": 4,
  "nbformat_minor": 0
}
